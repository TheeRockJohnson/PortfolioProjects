{
 "cells": [
  {
   "cell_type": "code",
   "execution_count": 2,
   "id": "1e3a97b3-4c69-47b5-b90a-bd3e45af2210",
   "metadata": {},
   "outputs": [],
   "source": [
    "from bs4 import BeautifulSoup\n",
    "import requests\n",
    "import smtplib\n",
    "import time\n",
    "import datetime"
   ]
  },
  {
   "cell_type": "code",
   "execution_count": 67,
   "id": "74a78270-7e24-4018-b404-d4ac011643da",
   "metadata": {
    "collapsed": true,
    "jupyter": {
     "outputs_hidden": true
    }
   },
   "outputs": [
    {
     "name": "stdout",
     "output_type": "stream",
     "text": [
      "\n",
      "\n",
      "\n",
      "\n",
      "\n",
      "                  Видеокарта ASUS GeForce DUAL RTX 4060 Ti EVO OC 8GB (90YV0J49-M0NA00)\n",
      "                 \n",
      "\n",
      "\n",
      "\n",
      "\n",
      "\n",
      "\n",
      "                                50 609\n",
      "                               \n",
      "\n",
      "\n",
      "                                ₽\n",
      "                               \n",
      "\n"
     ]
    }
   ],
   "source": [
    "# URL = 'https://www.amazon.com/Funny-Data-Systems-Business-Analyst/dp/B07FNW9FGJ/ref=sr_1_3?dchild=1&keywords=data%2Banalyst%2Btshirt&qid=1626655184&sr=8-3&customId=B0752XJYNL&th=1'\n",
    "URL = 'https://market.yandex.ru/card/videokarta-asus-geforce-dual-rtx-4060-ti-evo-oc-8gb-90yv0j49-m0na00/103451292212?do-waremd5=wyi02Vgsk4LdLPHaOizxeA&cpc=TPF1d3GHirn3a7DaliQ171unUfD1i_u9BPqUXgNql9-jVbBozgJ9KFaFQmzlXfNW5U4rYQsjHzkqCMf_oITPgJyaVPt-3xqH1DevbwNPUy8tqB888bh_IBY36BvFZENBV6MX_7z8C9GOlGh0RzTTRzw3U82NodZgEISe8CRT4P7rghV-q8TJX2ckPXCHFXO4gV1UX7oI7L6gSMMY0eFVjkEdHo_eSGukIpVqp7xPiNM%2C'\n",
    "headers = {\"User-Agent\": \"Mozilla/5.0 (Windows NT 10.0; Win64; x64) AppleWebKit/537.36 (KHTML, like Gecko) Chrome/134.0.0.0 Safari/537.36 OPR/119.0.0.0 (Edition Yx 05)\",\"Accept-Encoding\": \"gzip, deflate, br, zstd\", \"Accept\": \"text/html,application/xhtml+xml,application/xml;q=0.9,image/avif,image/webp,image/apng,*/*;q=0.8,application/signed-exchange;v=b3;q=0.7\", \"Upgrade-Insecure-Requests\": \"1\"} \n",
    "\n",
    "page = requests.get(URL, headers=headers)\n",
    "\n",
    "soup1 = BeautifulSoup(page.content, 'html.parser')\n",
    "soup2 = BeautifulSoup(soup1.prettify(), 'html.parser')\n",
    "\n",
    "title = soup2.find(id = \"/content/page/fancyPage/defaultPage/productTitle\").get_text()\n",
    "price = soup2.find('span', class_ = \"ds-valueLine\").get_text()\n",
    "\n",
    "print(title)\n",
    "print(price)"
   ]
  },
  {
   "cell_type": "code",
   "execution_count": 68,
   "id": "2d527e5a-b895-4d83-9b18-6a66da915d96",
   "metadata": {},
   "outputs": [
    {
     "name": "stdout",
     "output_type": "stream",
     "text": [
      "Видеокарта ASUS GeForce DUAL RTX 4060 Ti EVO OC 8GB (90YV0J49-M0NA00)\n"
     ]
    }
   ],
   "source": [
    "\n",
    "title = title.strip()\n",
    "\n",
    "print(title)"
   ]
  },
  {
   "cell_type": "code",
   "execution_count": 116,
   "id": "c2449625-38ce-4b75-83cc-cc99fb40fda8",
   "metadata": {},
   "outputs": [
    {
     "name": "stdout",
     "output_type": "stream",
     "text": [
      "Видеокарта ASUS GeForce DUAL RTX 4060 Ti EVO OC 8GB (90YV0J49-M0NA00)\n",
      "50 609\n"
     ]
    }
   ],
   "source": [
    "import re\n",
    "price = re.sub('[\\n ₽]', '', price)\n",
    "#price = price.replace('\\n','')\n",
    "#price = price.replace(' ','')\n",
    "print(title)\n",
    "print(price)"
   ]
  },
  {
   "cell_type": "code",
   "execution_count": 117,
   "id": "00d6a21d-840a-499b-847a-fdb08961a8a7",
   "metadata": {},
   "outputs": [
    {
     "name": "stdout",
     "output_type": "stream",
     "text": [
      "2025-06-26\n"
     ]
    }
   ],
   "source": [
    "import datetime\n",
    "\n",
    "today = datetime.date.today()\n",
    "\n",
    "print(today)"
   ]
  },
  {
   "cell_type": "code",
   "execution_count": 143,
   "id": "a6e025e4-c0b0-4853-98af-c6998b4133a1",
   "metadata": {},
   "outputs": [],
   "source": [
    "import csv\n",
    "\n",
    "header = ['Product', 'Price', 'Date']\n",
    "data = [title, price, today]\n",
    "\n",
    "with open('YandexScraperDataset.csv', 'w', newline = '', encoding = 'UTF8') as f:\n",
    "    writer = csv.writer(f)\n",
    "    writer.writerow(header)\n",
    "    writer.writerow(data)"
   ]
  },
  {
   "cell_type": "code",
   "execution_count": 144,
   "id": "589a3661-7a90-4eae-a4e8-13c0bfb8c4e3",
   "metadata": {},
   "outputs": [
    {
     "name": "stdout",
     "output_type": "stream",
     "text": [
      "                                             Product   Price        Date\n",
      "0  Видеокарта ASUS GeForce DUAL RTX 4060 Ti EVO O...  50 609  2025-06-26\n"
     ]
    }
   ],
   "source": [
    "import pandas as pd\n",
    "\n",
    "df = pd.read_csv(r'C:\\Users\\DIMA7\\YandexScraperDataset.csv')\n",
    "\n",
    "print(df)"
   ]
  },
  {
   "cell_type": "code",
   "execution_count": 138,
   "id": "b2f75816-8ebc-481f-83fb-b2de493aa55c",
   "metadata": {},
   "outputs": [],
   "source": [
    "with open('YandexScraperDataset.csv', 'a+', newline='', encoding= 'UTF8') as f:\n",
    "    writer = csv.writer(f)\n",
    "    writer.writerow(data)"
   ]
  },
  {
   "cell_type": "code",
   "execution_count": 140,
   "id": "47f61fac-20b5-4b43-a079-47391a3bb182",
   "metadata": {},
   "outputs": [
    {
     "data": {
      "text/html": [
       "<div>\n",
       "<style scoped>\n",
       "    .dataframe tbody tr th:only-of-type {\n",
       "        vertical-align: middle;\n",
       "    }\n",
       "\n",
       "    .dataframe tbody tr th {\n",
       "        vertical-align: top;\n",
       "    }\n",
       "\n",
       "    .dataframe thead th {\n",
       "        text-align: right;\n",
       "    }\n",
       "</style>\n",
       "<table border=\"1\" class=\"dataframe\">\n",
       "  <thead>\n",
       "    <tr style=\"text-align: right;\">\n",
       "      <th></th>\n",
       "      <th>Product</th>\n",
       "      <th>Price</th>\n",
       "      <th>Date</th>\n",
       "    </tr>\n",
       "  </thead>\n",
       "  <tbody>\n",
       "    <tr>\n",
       "      <th>0</th>\n",
       "      <td>Видеокарта ASUS GeForce DUAL RTX 4060 Ti EVO O...</td>\n",
       "      <td>50 609</td>\n",
       "      <td>2025-06-26</td>\n",
       "    </tr>\n",
       "  </tbody>\n",
       "</table>\n",
       "</div>"
      ],
      "text/plain": [
       "                                             Product   Price        Date\n",
       "0  Видеокарта ASUS GeForce DUAL RTX 4060 Ti EVO O...  50 609  2025-06-26"
      ]
     },
     "execution_count": 140,
     "metadata": {},
     "output_type": "execute_result"
    }
   ],
   "source": [
    "df = df.drop_duplicates()\n",
    "df"
   ]
  },
  {
   "cell_type": "code",
   "execution_count": 142,
   "id": "323d7799-64a0-4252-9a33-1c2d2edf198c",
   "metadata": {},
   "outputs": [],
   "source": [
    "def check_price():\n",
    "    URL = 'https://market.yandex.ru/card/videokarta-asus-geforce-dual-rtx-4060-ti-evo-oc-8gb-90yv0j49-m0na00/103451292212?do-waremd5=wyi02Vgsk4LdLPHaOizxeA&cpc=TPF1d3GHirn3a7DaliQ171unUfD1i_u9BPqUXgNql9-jVbBozgJ9KFaFQmzlXfNW5U4rYQsjHzkqCMf_oITPgJyaVPt-3xqH1DevbwNPUy8tqB888bh_IBY36BvFZENBV6MX_7z8C9GOlGh0RzTTRzw3U82NodZgEISe8CRT4P7rghV-q8TJX2ckPXCHFXO4gV1UX7oI7L6gSMMY0eFVjkEdHo_eSGukIpVqp7xPiNM%2C'\n",
    "    headers = {\"User-Agent\": \"Mozilla/5.0 (Windows NT 10.0; Win64; x64) AppleWebKit/537.36 (KHTML, like Gecko) Chrome/134.0.0.0 Safari/537.36 OPR/119.0.0.0 (Edition Yx 05)\",\"Accept-Encoding\": \"gzip, deflate, br, zstd\", \"Accept\": \"text/html,application/xhtml+xml,application/xml;q=0.9,image/avif,image/webp,image/apng,*/*;q=0.8,application/signed-exchange;v=b3;q=0.7\", \"Upgrade-Insecure-Requests\": \"1\"} \n",
    "    page = requests.get(URL, headers=headers)\n",
    "\n",
    "    soup1 = BeautifulSoup(page.content, 'html.parser')\n",
    "    soup2 = BeautifulSoup(soup1.prettify(), 'html.parser')\n",
    "\n",
    "    title = soup2.find(id = \"/content/page/fancyPage/defaultPage/productTitle\").get_text()\n",
    "    price = soup2.find('span', class_ = \"ds-valueLine\").get_text()\n",
    "\n",
    "    title = title.strip()\n",
    "    price = re.sub('[\\n ₽]', '', price)\n",
    "\n",
    "    today = datetime.date.today()\n",
    "\n",
    "    header = ['Product', 'Price', 'Date']\n",
    "    data = [title, price, today]\n",
    "\n",
    "    with open('YandexScraperDataset.csv', 'a+', newline='', encoding= 'UTF8') as f:\n",
    "        writer = csv.writer(f)\n",
    "        writer.writerow(data)\n",
    "\n",
    "    "
   ]
  },
  {
   "cell_type": "code",
   "execution_count": null,
   "id": "aa870aa8-21d0-4616-973d-37d44b77a749",
   "metadata": {},
   "outputs": [],
   "source": [
    "while(True):\n",
    "    check_price()\n",
    "    time.sleep()"
   ]
  },
  {
   "cell_type": "code",
   "execution_count": null,
   "id": "c76630e7-8b94-48ac-93e2-fc3c62e50bb7",
   "metadata": {},
   "outputs": [],
   "source": [
    "import pandas as pd\n",
    "\n",
    "df = pd.read_csv(r'C:\\Users\\DIMA7\\YandexScraperDataset.csv')\n",
    "\n",
    "print(df)"
   ]
  },
  {
   "cell_type": "code",
   "execution_count": null,
   "id": "c529483e-aaeb-4055-bf47-f29602be3460",
   "metadata": {},
   "outputs": [],
   "source": [
    "def send_mail():\n",
    "    server = smtplib.SMTP_SSL('smtp.gmail.com',465)\n",
    "    server.ehlo()\n",
    "    #server.starttls()\n",
    "    server.ehlo()\n",
    "    server.login('dima7356@gmail.com','xxxxxxxxxxxxxx')\n",
    "    \n",
    "    subject = \"Все супер\"\n",
    "    body = 'Все супер на сайте https://market.yandex.ru/card/videokarta-asus-geforce-dual-rtx-4060-ti-evo-oc-8gb-90yv0j49-m0na00/103451292212?do-waremd5=wyi02Vgsk4LdLPHaOizxeA&cpc=TPF1d3GHirn3a7DaliQ171unUfD1i_u9BPqUXgNql9-jVbBozgJ9KFaFQmzlXfNW5U4rYQsjHzkqCMf_oITPgJyaVPt-3xqH1DevbwNPUy8tqB888bh_IBY36BvFZENBV6MX_7z8C9GOlGh0RzTTRzw3U82NodZgEISe8CRT4P7rghV-q8TJX2ckPXCHFXO4gV1UX7oI7L6gSMMY0eFVjkEdHo_eSGukIpVqp7xPiNM%2C'\n",
    "   \n",
    "    msg = f\"Subject: {subject}\\n\\n{body}\"\n",
    "    \n",
    "    server.sendmail(\n",
    "        'dima7356@gmail.com',\n",
    "        msg\n",
    "     \n",
    "    )"
   ]
  },
  {
   "cell_type": "code",
   "execution_count": null,
   "id": "5966ba28-2699-40c6-8780-c87d9234393b",
   "metadata": {},
   "outputs": [],
   "source": []
  }
 ],
 "metadata": {
  "kernelspec": {
   "display_name": "Python 3 (ipykernel)",
   "language": "python",
   "name": "python3"
  },
  "language_info": {
   "codemirror_mode": {
    "name": "ipython",
    "version": 3
   },
   "file_extension": ".py",
   "mimetype": "text/x-python",
   "name": "python",
   "nbconvert_exporter": "python",
   "pygments_lexer": "ipython3",
   "version": "3.11.5"
  }
 },
 "nbformat": 4,
 "nbformat_minor": 5
}
